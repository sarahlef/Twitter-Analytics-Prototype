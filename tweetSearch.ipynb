{
 "cells": [
  {
   "cell_type": "code",
   "execution_count": 128,
   "id": "83c3b7ac-eed7-42c3-a86f-cd00818d4865",
   "metadata": {},
   "outputs": [],
   "source": [
    "import tweepy #Api package handler\n",
    "import pandas as pd #Used for csv files\n",
    "import time #Will be used for Chronometer\n",
    "import datetime #Will be used for Getting date form\n",
    "import matplotlib.pyplot as plt\n",
    "%matplotlib inline"
   ]
  },
  {
   "cell_type": "code",
   "execution_count": 129,
   "id": "2327521d-c778-4dfb-b910-1b41d9e56d6f",
   "metadata": {
    "tags": []
   },
   "outputs": [],
   "source": [
    "\"\"\" Api Consumer Class\"\"\"\n",
    "class TwitterApiSearch:\n",
    "    #'Count how many rows received from api'\n",
    "    total_found_post = 0\n",
    "    #start chronometer\n",
    "    start_time = 0 #start chronometer\n",
    "    end_time = 0 #end chronometer\n",
    "    \n",
    "    #Storing api result in array\n",
    "    tweets_array = [] \n",
    "    #Collect all posts trends\n",
    "    hashtags_collection = []\n",
    "    \n",
    "    def __init__(self, api, keyword_array, nb_record=''):\n",
    "        self.api = api\n",
    "        self.keyword_array = keyword_array\n",
    "        self.nb_records = nb_record\n",
    "    \n",
    "    def __getDataFromApi(self):\n",
    "        self.start_time = time.time()\n",
    "        \n",
    "        for key in self.keyword_array:\n",
    "            for tweet in tweepy.Cursor(self.api.search, q = key).items(self.nb_records):\n",
    "                #check if post has hashtag\n",
    "                is_hashtag = len(tweet.entities['hashtags'])\n",
    "                #get first hashtag only if there is an hashtag\n",
    "                hashtag = tweet.entities['hashtags'][0]['text'] if is_hashtag!=0 else ''\n",
    "                \n",
    "                created_at = tweet.created_at\n",
    "                text = tweet.text\n",
    "                username = tweet.user.screen_name\n",
    "        \n",
    "                #store tweet record\n",
    "                self.tweets_array.append([key, created_at, text, username, hashtag])\n",
    "                #store tweet tag\n",
    "                self.hashtags_collection.append(hashtag) \n",
    "                \n",
    "                #track records got as an api resonse total++\n",
    "                self.total_found_post = self.total_found_post + 1 \n",
    "            \n",
    "        self.end_time = time.time() #chrono ends\n",
    "        \n",
    "    def getTweets(self):\n",
    "        self.__getDataFromApi()\n",
    "        return self.tweets_array\n",
    "    \n",
    "    def getHashtags(self):\n",
    "        return self.hashtags_collection\n",
    "    \n",
    "    def getTotalRows(self):\n",
    "        return self.total_found_post\n",
    "    \n",
    "    def getChronoRecord(self):\n",
    "        record = self.end_time - self.start_time\n",
    "        return record"
   ]
  },
  {
   "cell_type": "code",
   "execution_count": 130,
   "id": "a183fec9-a03b-4070-8cd7-41ff6a301edb",
   "metadata": {},
   "outputs": [],
   "source": [
    "\"\"\" Connect to Api\"\"\"\n",
    "def twitterApiConnection(api_key, api_key_secret):\n",
    "    #Send OAuth request\n",
    "    auth = tweepy.AppAuthHandler(api_key, api_key_secret) \n",
    "    #Create API object\n",
    "    api = tweepy.API(auth) \n",
    "    \n",
    "    return api"
   ]
  },
  {
   "cell_type": "code",
   "execution_count": 131,
   "id": "9dd5754b-bfab-4c81-840b-3fa592986508",
   "metadata": {},
   "outputs": [],
   "source": [
    "\"\"\" Conver input to List\"\"\"\n",
    "def inputToList(string):\n",
    "    #Prepare input to convert it into array\n",
    "    string = string.replace(', ', ',').replace(' ,', ',') \n",
    "    #conver input to array\n",
    "    array = string.split(',')\n",
    "    \n",
    "    return array"
   ]
  },
  {
   "cell_type": "code",
   "execution_count": 132,
   "id": "5457145d-6d11-4866-b689-241a46549dc2",
   "metadata": {},
   "outputs": [],
   "source": [
    "\"\"\" List to string \"\"\"\n",
    "#Array to string\n",
    "def listToString(L):  \n",
    "    return \", \".join(str(x) for x in L)"
   ]
  },
  {
   "cell_type": "code",
   "execution_count": 133,
   "id": "4542788e-ca44-4b98-8cde-2ba2ef5b1ec7",
   "metadata": {},
   "outputs": [],
   "source": [
    "\"\"\" Remove empty elements from list \"\"\"\n",
    "def removeEmptyFromList(L):\n",
    "    return [string for string in L if string != \"\"]"
   ]
  },
  {
   "cell_type": "code",
   "execution_count": 134,
   "id": "50bff656-d7fe-47a2-8a88-e4943ded8c74",
   "metadata": {},
   "outputs": [],
   "source": [
    "\"\"\" Get array with occurence, and with no duplications\"\"\"\n",
    "def arrayOccurences(array):\n",
    "    array_occurence = []\n",
    "    no_duplications = list(set(array))\n",
    "    for item in no_duplications:\n",
    "        array_occurence.append([item, array.count(item)])\n",
    "    \n",
    "    return {'without_duplications': no_duplications, 'array_occurence': array_occurence}"
   ]
  },
  {
   "cell_type": "code",
   "execution_count": 135,
   "id": "c8e9461a-aad5-40be-887e-aa7ad47032b5",
   "metadata": {
    "tags": []
   },
   "outputs": [],
   "source": [
    "\"\"\" Twitter array with occurences of registered hashtags \"\"\"\n",
    "def tweetWithHashtagOccurence(input_array, hashtags_array, target_column_index):\n",
    "    final_array =[]\n",
    "    columns = len(input_array[0])\n",
    "    target_column = arrayOccurences(hashtags_array)\n",
    "    target_no_duplication = target_column['without_duplications']\n",
    "    target_occurence = target_column['array_occurence']\n",
    "    \n",
    "    for item in input_array:\n",
    "        name = item[target_column_index]\n",
    "        index = target_no_duplication.index(name)\n",
    "        occurence = target_occurence[index][1]\n",
    "        \n",
    "        final_array.append([item[0], item[1], item[2], item[3], item[4], occurence])\n",
    "    return final_array"
   ]
  },
  {
   "cell_type": "code",
   "execution_count": 136,
   "id": "bc7aad46-ea43-41a3-bf5b-039a815e543a",
   "metadata": {},
   "outputs": [],
   "source": [
    "\"\"\" Create csv file from twitter's given array\"\"\"\n",
    "def createTweetCsv(array, filename, display_message=False):\n",
    "    fieldnames = [\"keyword\", \"created_at\", \"text\", \"username\", \"hashtag\", \"hashtag_occurence\"]\n",
    "    df = pd.DataFrame(array, columns = fieldnames)\n",
    "    df.to_csv(filename, index=False)\n",
    "    \n",
    "    if display_message:\n",
    "            print('file ', end=\" \")\n",
    "            print('\\033[4m' + filename + '\\033[0m' , end=\" \")\n",
    "            print(' has been successfully created')"
   ]
  },
  {
   "cell_type": "code",
   "execution_count": 137,
   "id": "c173bff5-397e-42dc-b459-f41dba5d674b",
   "metadata": {},
   "outputs": [],
   "source": [
    "\"\"\" Sort tweet's array by column \"\"\"\n",
    "def tweetSortedByColumn(input_array, column_index=5, desc=True):\n",
    "    #sorted on descandant\n",
    "    sorted_array = sorted(input_array,key=lambda x: x[column_index], reverse=desc)\n",
    "    return sorted_array"
   ]
  },
  {
   "cell_type": "code",
   "execution_count": 138,
   "id": "3f999959-8e02-4a09-aaad-64b79983dde4",
   "metadata": {},
   "outputs": [],
   "source": [
    "\"\"\" Get day start, get day end \"\"\"\n",
    "def getDayInterval(date):\n",
    "    date_start = datetime.datetime(date.year, date.month, date.day, 0, 0, 0)\n",
    "    date_end = datetime.datetime(date.year, date.month, date.day, 23, 59, 59)\n",
    "    return {'start': date_start, 'end': date_end}"
   ]
  },
  {
   "cell_type": "code",
   "execution_count": 139,
   "id": "c6e53087-d239-4ce2-8640-06ab6e6895f9",
   "metadata": {},
   "outputs": [],
   "source": [
    "\"\"\" Get hour start, get day end \"\"\"\n",
    "def getHourInterval(date):\n",
    "    date_start = datetime.datetime(date.year, date.month, date.day, date.hour, 0, 0)\n",
    "    date_end = datetime.datetime(date.year, date.month, date.day, date.hour, 59, 0)\n",
    "    return {'start': date_start, 'end': date_end}"
   ]
  },
  {
   "cell_type": "code",
   "execution_count": 140,
   "id": "509c33ba-73d8-4c96-95a1-fb511379919e",
   "metadata": {},
   "outputs": [],
   "source": [
    "\"\"\" Get top 10 hashtag of precise date, or ( by default ) of a week excepts it requires an array input of all hashtags \"\"\"\n",
    "def getTopHashtag(array, date, type, nb_display, allHashtags = []):\n",
    "    collection_temp = []\n",
    "    collection = []\n",
    "    \n",
    "    if type == 'day':\n",
    "        date_start = getDayInterval(date)['start']\n",
    "        date_end = getDayInterval(date)['end']\n",
    "    elif type == 'hour':\n",
    "        date_start = getHourInterval(date)['start']\n",
    "        date_end = getHourInterval(date)['end']\n",
    "        \n",
    "    else :\n",
    "        #Top of the week\n",
    "        collection = sorted(set(allHashtags), key = lambda ele: allHashtags.count(ele), reverse=True) #sort hashtags by occurence, descendant\n",
    "        collection.remove('')  #To remove the no hashtag case\n",
    "        \n",
    "        return collection[:nb_display]\n",
    "    \n",
    "    #Sweep the array\n",
    "    for item in array:\n",
    "        if item[1] >= date_start and item[1] < date_end:\n",
    "            collection_temp.append(item[4]) #Store item's hashtag\n",
    "    \n",
    "    #Sort array by occurences decendant\n",
    "    collection = sorted(set(collection_temp), key = lambda ele: collection_temp.count(ele), reverse=True) #sort resulted hashtags by occurence descendant\n",
    "    \n",
    "    #Remove empty hashtag\n",
    "    collection = removeEmptyFromList(collection)\n",
    "        \n",
    "    return collection[:nb_display]  "
   ]
  },
  {
   "cell_type": "code",
   "execution_count": 141,
   "id": "30550c9a-174f-456e-a148-a317ba2af9c2",
   "metadata": {},
   "outputs": [],
   "source": [
    "\"\"\" Display top10 of the week \"\"\"\n",
    "def displayTopOfWeek(array, nb_display = 10):\n",
    "    result = getTopHashtag(array, datetime.datetime.now(), 'week', nb_display, hashtags_array)\n",
    "    print(listToString(result))\n",
    "    \n",
    "    return ''"
   ]
  },
  {
   "cell_type": "code",
   "execution_count": 142,
   "id": "bee22f82-106b-43fa-b1ec-48b2c318a844",
   "metadata": {},
   "outputs": [],
   "source": [
    "\"\"\" Display top10 of each latest 7 days \"\"\"\n",
    "def displayTopOfDays(array, n_days, nb_display = 10):\n",
    "    for i in range(n_days + 1):\n",
    "        askedDay = datetime.date.today() - datetime.timedelta(days=i) #Set a day of the 7 days (1 week)\n",
    "        \n",
    "        result = getTopHashtag(array, askedDay, 'day', nb_display, hashtags_array)\n",
    "        print(askedDay, end=\" \")\n",
    "        print(':', end=\" \")\n",
    "        print(listToString(result))\n",
    "        \n",
    "    return ''"
   ]
  },
  {
   "cell_type": "code",
   "execution_count": 143,
   "id": "7226bd87-0913-4db3-bbf6-d93451b4648c",
   "metadata": {
    "tags": []
   },
   "outputs": [],
   "source": [
    "\"\"\" Display top10 of each hours of latest 7 days \"\"\"\n",
    "def displayTopPerHour(array, n_days, nb_display = 10):\n",
    "    for i in range(n_days + 1):\n",
    "        askedDay = datetime.datetime.today() - datetime.timedelta(days=i)\n",
    "        resultDay = getTopHashtag(array, askedDay, 'day', nb_display, hashtags_array)\n",
    "        \n",
    "        #Check if the day has top hashtag\n",
    "        print('\\033[4m'+ str(askedDay.year) + '-' + str(askedDay.month) + '-' + str(askedDay.day) +'\\033[0m' ) #Display the date found\n",
    "        for i in range(24):\n",
    "            askedHour = askedDay - datetime.timedelta(hours=i) #Set an hour of the current day\n",
    "            resultHour = getTopHashtag(tweets_array, askedHour, 'hour', nb_display, hashtags_array)\n",
    "            if len(resultHour) != 0:\n",
    "                print(askedHour.hour, end=\" \")\n",
    "                print('to', end=\" \")\n",
    "                print((askedHour.hour + 1) % 24, end=\" \")\n",
    "                print(':', end=\" \")\n",
    "                print(listToString(resultHour))\n",
    "                \n",
    "    return ''"
   ]
  },
  {
   "cell_type": "code",
   "execution_count": 144,
   "id": "70cd5704-746f-4d60-a66f-5f1c7244f968",
   "metadata": {},
   "outputs": [],
   "source": [
    "\"\"\" Remove row that contains empty element from array \"\"\"\n",
    "def removeEmptyFromArray(L):\n",
    "    return [row for row in L if row[0] != \"\"]"
   ]
  },
  {
   "cell_type": "code",
   "execution_count": 145,
   "id": "55feac1b-cfac-489b-b62c-6c4c87978a2a",
   "metadata": {},
   "outputs": [],
   "source": [
    "\"\"\" Get array's column \"\"\"\n",
    "def getArrayColumn(matrix, i):\n",
    "    return [row[i] for row in matrix]"
   ]
  },
  {
   "cell_type": "code",
   "execution_count": 146,
   "id": "62d4e9d1-6336-4d98-a32d-87f604db1e7a",
   "metadata": {},
   "outputs": [],
   "source": [
    "\"\"\" Create piechart \"\"\"\n",
    "def createPieChart(array):\n",
    "    #Remove empty hashtag from array, since most of tweets doesn't contain hashtags\n",
    "    data_array = removeEmptyFromArray(array)\n",
    "    #sort array descandant\n",
    "    data_array_sorted = tweetSortedByColumn(data_array, 1, True)\n",
    "    \n",
    "    #Set Piechart values\n",
    "    list_occurance = getArrayColumn(data_array_sorted, 1)\n",
    "    #Set Piechart names\n",
    "    list_name = getArrayColumn(data_array_sorted, 0)\n",
    "    \n",
    "    #display the chart\n",
    "    plt.axis(\"equal\")\n",
    "    plt.pie(list_occurance, labels = list_name, radius=2, autopct='%0.0f%%', shadow=True, startangle=0)\n",
    "    plt.show()"
   ]
  },
  {
   "cell_type": "code",
   "execution_count": 147,
   "id": "bfdd0471-832e-43d0-b0e5-f13bcb2decd1",
   "metadata": {},
   "outputs": [],
   "source": [
    "#######################################################################################"
   ]
  },
  {
   "cell_type": "code",
   "execution_count": 148,
   "id": "cfc5e621-b665-4b34-b355-1b80cb4ff134",
   "metadata": {},
   "outputs": [
    {
     "name": "stdout",
     "output_type": "stream",
     "text": [
      "Enter keywords as folling: word1, word2, ....\n"
     ]
    },
    {
     "name": "stdin",
     "output_type": "stream",
     "text": [
      " Doctor, Vintage car\n"
     ]
    },
    {
     "name": "stdout",
     "output_type": "stream",
     "text": [
      "Set limit of records needed for one keyword, Note::prefirably limit must not be above 250 due to twitter's api policy\n"
     ]
    },
    {
     "name": "stdin",
     "output_type": "stream",
     "text": [
      " 150\n"
     ]
    },
    {
     "name": "stdout",
     "output_type": "stream",
     "text": [
      "please wait...\n",
      "file  \u001b[4mtweetsResult.csv\u001b[0m  has been successfully created\n",
      "file  \u001b[4msortedTweets.csv\u001b[0m  has been successfully created\n"
     ]
    }
   ],
   "source": [
    "#Setup API object, NOTE:: api_keys are preferably getting asked through console\n",
    "api_key = 'BpiMXpXrKoyq6TRaVEvu4NUUr'\n",
    "api_key_secret = 'FdzzCKpQ4s75cGKXKQQCnSZNvu3nbsqlsX0vlSMJ7wPk9vLRxz'\n",
    "api = twitterApiConnection(api_key, api_key_secret)\n",
    "\n",
    "#User input must be: word1, word2, .....\n",
    "print('Enter keywords as folling: word1, word2, ....')\n",
    "userInput = input()\n",
    "#Turn input into List structure\n",
    "keywordsArray = inputToList(userInput)\n",
    "\n",
    "#Ask limit for queries sent to twitter api for one keyword\n",
    "print('Set limit of records needed for one keyword, Note::prefirably limit must not be above 250 due to twitter\\'s api policy')\n",
    "limit = int(input())\n",
    "\n",
    "print('please wait...')\n",
    "#Create twitter search object, \n",
    "tweets = TwitterApiSearch(api, keywordsArray, limit)\n",
    "#Get tweets\n",
    "tweets_array = tweets.getTweets()\n",
    "#Get all hashtags found even if cases without hashtags\n",
    "hashtags_array = tweets.getHashtags()\n",
    "#Get each hashtag's occurence\n",
    "hashtag_occurence = arrayOccurences(hashtags_array)['array_occurence']\n",
    "\n",
    "#Create array of tweets with hashtag occurence\n",
    "tweets_with_occurence = tweetWithHashtagOccurence(tweets_array, hashtags_array, 4)\n",
    "\n",
    "#Save tweets to csv\n",
    "createTweetCsv(tweets_with_occurence, 'tweetsResult.csv', True) #Setted to true, in order to display message of success\n",
    "\n",
    "#Sort tweets array by occurence column\n",
    "tweet_sorted = tweetSortedByColumn(tweets_with_occurence)\n",
    "\n",
    "#Save sorted tweets to csv\n",
    "createTweetCsv(tweet_sorted, 'sortedTweets.csv', True)"
   ]
  },
  {
   "cell_type": "code",
   "execution_count": 152,
   "id": "c22413d6-087c-4c40-bfc7-b8926865d629",
   "metadata": {},
   "outputs": [
    {
     "name": "stdout",
     "output_type": "stream",
     "text": [
      "Top 10 hashtags\n",
      "\n",
      "Keywords used in search : \n",
      "Doctor, Vintage car\n",
      "\n",
      "Top 10 Hashtags of the week : \n",
      "etsyshop, CaribbeanArt, classiccars, GiuliaGTA, nikon, tbt, oldsmobile, AlfaRomeo, PriyankaMohan, Etsyteamunity\n",
      "\n",
      "Top 10 Hashtags for each latest 7 days : \n",
      "2021-07-23 : etsyshop, classiccars, GiuliaGTA, nikon, AlfaRomeo, PriyankaMohan, Etsyteamunity, dusty, CeremoniaDeInauguracion, RT\n",
      "2021-07-22 : etsyshop, oldsmobile, CaribbeanArt, lego, tbt, vintage, etsypreneur, YIAYbed, horrormemes\n",
      "2021-07-21 : \n",
      "2021-07-20 : \n",
      "2021-07-19 : \n",
      "2021-07-18 : \n",
      "2021-07-17 : \n",
      "2021-07-16 : \n",
      "\n",
      "Top 10 Hashtags for each hour of today\n",
      "\u001b[4m2021-7-23\u001b[0m\n",
      "13 to 14 : GiuliaGTA, AfternoonBriefing, COVID19, DoctorStrangeInTheMultiverseOfMadness, PriyankaMohan, prochoicenotproabortion, NVP, CeremoniaDeInauguracion, DoctorWho, classiccar\n",
      "12 to 13 : etsyshop, Ride\n",
      "11 to 12 : RT, AlfaRomeo\n",
      "9 to 10 : classiccars, etsyshop\n",
      "8 to 9 : classiccars, etsyshop, nikon\n",
      "7 to 8 : dusty\n",
      "4 to 5 : etsyshop\n",
      "3 to 4 : udaipurdiaries, etsyshop, Etsyteamunity, CIJtmt\n",
      "2 to 3 : CaribbeanArt\n",
      "0 to 1 : tbt, nikon\n",
      "23 to 0 : etsyshop, tbt, YIAYbed\n",
      "22 to 23 : CaribbeanArt, vintage\n",
      "21 to 22 : etsyshop, lego, etsypreneur, oldsmobile\n",
      "20 to 21 : etsyshop, oldsmobile\n",
      "19 to 20 : horrormemes\n",
      "18 to 19 : etsyshop\n",
      "\u001b[4m2021-7-22\u001b[0m\n",
      "\u001b[4m2021-7-21\u001b[0m\n",
      "\u001b[4m2021-7-20\u001b[0m\n",
      "\u001b[4m2021-7-19\u001b[0m\n",
      "\u001b[4m2021-7-18\u001b[0m\n",
      "\u001b[4m2021-7-17\u001b[0m\n",
      "\u001b[4m2021-7-16\u001b[0m\n",
      "\n",
      "Benchmarking\n",
      "\u001b[4mTotal time spent to get results\u001b[0m: 19.274533987045288 seconds\n",
      "\u001b[4mTotal rows found from api\u001b[0m: 300 rows\n",
      "\n",
      "Pie chart of each hashtag's occurences found in twitter list\n"
     ]
    },
    {
     "data": {
      "image/png": "[encoded data removed]",
      "text/plain": [
       "<Figure size 432x288 with 1 Axes>"
      ]
     },
     "metadata": {},
     "output_type": "display_data"
    }
   ],
   "source": [
    "#----- DISPLAY RESULT --------#\n",
    "\"\"\" Display Results \"\"\"\n",
    "print('Top 10 hashtags')\n",
    "#top_number = int(input())\n",
    "top_number = 10\n",
    "\n",
    "#Keywods\n",
    "print('\\nKeywords used in search : ')\n",
    "print(userInput +'\\n')\n",
    "\n",
    "#Top 10 hashtags of the week\n",
    "print('Top 10 Hashtags of the week : ')\n",
    "print(displayTopOfWeek(tweets_array, top_number))\n",
    "\n",
    "#Top 10 hashtags for each latest 7 days \n",
    "print('Top 10 Hashtags for each latest 7 days : ')\n",
    "print(displayTopOfDays(tweets_array, 7, top_number))\n",
    "\n",
    "#Top10 hashtags per hours \n",
    "print('Top 10 Hashtags for each hour of today')\n",
    "print(displayTopPerHour(tweets_array, 7, top_number))\n",
    "\n",
    "#General Details\n",
    "print('Benchmarking')\n",
    "\n",
    "#Chorometer counts\n",
    "print('\\033[4m' + 'Total time spent to get results' + '\\033[0m' + ':', end =\" \")\n",
    "print(str(tweets.getChronoRecord()) + ' seconds') \n",
    "#Total rows caught from api\n",
    "print('\\033[4m' + 'Total rows found from api' + '\\033[0m' + ':', end =\" \")\n",
    "print(str(tweets.getTotalRows()) + ' rows') \n",
    "\n",
    "print(\"\\nPie chart of each hashtag's occurences found in twitter list\")\n",
    "createPieChart(hashtag_occurence)"
   ]
  },
  {
   "cell_type": "code",
   "execution_count": null,
   "id": "6fca40e0-5eed-457f-9891-b62a8323360c",
   "metadata": {},
   "outputs": [],
   "source": []
  }
 ],
 "metadata": {
  "kernelspec": {
   "display_name": "Python 3 (ipykernel)",
   "language": "python",
   "name": "python3"
  },
  "language_info": {
   "codemirror_mode": {
    "name": "ipython",
    "version": 3
   },
   "file_extension": ".py",
   "mimetype": "text/x-python",
   "name": "python",
   "nbconvert_exporter": "python",
   "pygments_lexer": "ipython3",
   "version": "3.9.6"
  }
 },
 "nbformat": 4,
 "nbformat_minor": 5
}
